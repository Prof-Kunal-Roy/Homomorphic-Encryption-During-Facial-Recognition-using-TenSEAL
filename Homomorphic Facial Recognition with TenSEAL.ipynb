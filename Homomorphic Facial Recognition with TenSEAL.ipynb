{
 "cells": [
  {
   "cell_type": "markdown",
   "id": "9ab00f1c",
   "metadata": {},
   "source": [
    "# Requirements"
   ]
  },
  {
   "cell_type": "code",
   "execution_count": 29,
   "id": "cefcf6ba",
   "metadata": {},
   "outputs": [],
   "source": [
    "import tenseal as ts # pip install tenseal\n",
    "from deepface import DeepFace #!pip install deepface\n",
    "import base64\n",
    "from deepface.commons import distance as dst\n"
   ]
  },
  {
   "cell_type": "markdown",
   "id": "8c7cfa85",
   "metadata": {},
   "source": [
    "# Finding embeddings (Client Side)\n",
    "We are going to find vector representations of facial images. This will be done in the client side."
   ]
  },
  {
   "cell_type": "code",
   "execution_count": 3,
   "id": "3f9af942",
   "metadata": {},
   "outputs": [],
   "source": [
    "img1_path = \"photo.jpeg\"\n",
    "img2_path = \"new photo.jpeg\""
   ]
  },
  {
   "cell_type": "code",
   "execution_count": 4,
   "id": "f19cb54c",
   "metadata": {},
   "outputs": [],
   "source": [
    "img1_embedding=DeepFace.represent(img1_path, model_name='Facenet')\n",
    "img2_embedding=DeepFace.represent(img2_path, model_name='Facenet')"
   ]
  },
  {
   "cell_type": "code",
   "execution_count": 9,
   "id": "754c9b5d",
   "metadata": {},
   "outputs": [
    {
     "data": {
      "text/plain": [
       "1"
      ]
     },
     "execution_count": 9,
     "metadata": {},
     "output_type": "execute_result"
    }
   ],
   "source": [
    "len(img1_embedding)"
   ]
  },
  {
   "cell_type": "markdown",
   "id": "6c1d3a6d",
   "metadata": {},
   "source": [
    "# Commons"
   ]
  },
  {
   "cell_type": "code",
   "execution_count": 33,
   "id": "44630098",
   "metadata": {},
   "outputs": [],
   "source": [
    "def write_data(file_name, file_content):\n",
    "    \n",
    "    if type(file_content) == bytes:\n",
    "        #bytes to base64\n",
    "        \n",
    "        file_content = base64.b64encode(file_content)\n",
    "    \n",
    "    with open(file_name, 'wb') as f: \n",
    "        f.write(file_content)\n",
    "\n",
    "def read_data(file_name):\n",
    "    with open(file_name, \"rb\") as f:\n",
    "        file_content = f.read()\n",
    "    \n",
    "    #base64 to bytes\n",
    "    return base64.b64decode(file_content)"
   ]
  },
  {
   "cell_type": "code",
   "execution_count": null,
   "id": "ac097c8a",
   "metadata": {},
   "outputs": [],
   "source": []
  },
  {
   "cell_type": "code",
   "execution_count": null,
   "id": "c4cdf2bb",
   "metadata": {},
   "outputs": [],
   "source": []
  },
  {
   "cell_type": "markdown",
   "id": "8e70aa6a",
   "metadata": {},
   "source": [
    "# Initialize (Client Side)"
   ]
  },
  {
   "cell_type": "code",
   "execution_count": 34,
   "id": "237b951e",
   "metadata": {},
   "outputs": [],
   "source": [
    "context = ts.context(ts.SCHEME_TYPE.CKKS, poly_modulus_degree = 8192, coeff_mod_bit_sizes = [60, 40, 40, 60])"
   ]
  },
  {
   "cell_type": "code",
   "execution_count": 35,
   "id": "3c8d8954",
   "metadata": {},
   "outputs": [],
   "source": [
    "context.generate_galois_keys()\n",
    "context.global_scale = 2**40"
   ]
  },
  {
   "cell_type": "code",
   "execution_count": 36,
   "id": "fa55b946",
   "metadata": {},
   "outputs": [],
   "source": [
    "secret_context = context.serialize(save_secret_key = True)\n",
    "write_data(\"secret.txt\", file_content=secret_context)"
   ]
  },
  {
   "cell_type": "code",
   "execution_count": 37,
   "id": "c7a8f5f3",
   "metadata": {},
   "outputs": [
    {
     "data": {
      "text/plain": [
       "bytes"
      ]
     },
     "execution_count": 37,
     "metadata": {},
     "output_type": "execute_result"
    }
   ],
   "source": [
    "type(secret_context)"
   ]
  },
  {
   "cell_type": "code",
   "execution_count": 38,
   "id": "215c0313",
   "metadata": {},
   "outputs": [],
   "source": [
    "context.make_context_public()\n",
    "public_context=context.serialize()\n",
    "write_data(file_name=\"public.txt\",file_content=public_context)"
   ]
  },
  {
   "cell_type": "code",
   "execution_count": 39,
   "id": "60f067b8",
   "metadata": {},
   "outputs": [],
   "source": [
    "del context, secret_context, public_context"
   ]
  },
  {
   "cell_type": "markdown",
   "id": "69af1e96",
   "metadata": {},
   "source": [
    "# Encryption\n",
    "We are going to apply homomorphic encryption to facial embeddings. This will be done in the client side.\n",
    "\n",
    "Then, homomorphic encrypted facial embeddings will be stored in the cloud."
   ]
  },
  {
   "cell_type": "code",
   "execution_count": 48,
   "id": "0b0f67e6",
   "metadata": {},
   "outputs": [
    {
     "ename": "TypeError",
     "evalue": "input isn't a well structured tensor",
     "output_type": "error",
     "traceback": [
      "\u001b[1;31m---------------------------------------------------------------------------\u001b[0m",
      "\u001b[1;31mTypeError\u001b[0m                                 Traceback (most recent call last)",
      "File \u001b[1;32mG:\\PROJECT 2023\\Anaconda\\lib\\site-packages\\tenseal\\tensors\\plaintensor.py:28\u001b[0m, in \u001b[0;36mPlainTensor.__init__\u001b[1;34m(self, tensor, shape, dtype)\u001b[0m\n\u001b[0;32m     27\u001b[0m \u001b[38;5;28;01mtry\u001b[39;00m:\n\u001b[1;32m---> 28\u001b[0m     t \u001b[38;5;241m=\u001b[39m \u001b[43mnp\u001b[49m\u001b[38;5;241;43m.\u001b[39;49m\u001b[43marray\u001b[49m\u001b[43m(\u001b[49m\u001b[43mtensor\u001b[49m\u001b[43m,\u001b[49m\u001b[43m \u001b[49m\u001b[43mdtype\u001b[49m\u001b[38;5;241;43m=\u001b[39;49m\u001b[43mdtype\u001b[49m\u001b[43m)\u001b[49m\n\u001b[0;32m     29\u001b[0m \u001b[38;5;28;01mexcept\u001b[39;00m:\n",
      "\u001b[1;31mTypeError\u001b[0m: float() argument must be a string or a number, not 'dict'",
      "\nDuring handling of the above exception, another exception occurred:\n",
      "\u001b[1;31mTypeError\u001b[0m                                 Traceback (most recent call last)",
      "Input \u001b[1;32mIn [48]\u001b[0m, in \u001b[0;36m<cell line: 2>\u001b[1;34m()\u001b[0m\n\u001b[0;32m      1\u001b[0m context \u001b[38;5;241m=\u001b[39m ts\u001b[38;5;241m.\u001b[39mcontext_from(read_data(\u001b[38;5;124m\"\u001b[39m\u001b[38;5;124msecret.txt\u001b[39m\u001b[38;5;124m\"\u001b[39m))\n\u001b[1;32m----> 2\u001b[0m enc_v1 \u001b[38;5;241m=\u001b[39m \u001b[43mts\u001b[49m\u001b[38;5;241;43m.\u001b[39;49m\u001b[43mckks_vector\u001b[49m\u001b[43m(\u001b[49m\u001b[43mcontext\u001b[49m\u001b[43m,\u001b[49m\u001b[43m \u001b[49m\u001b[43mimg1_embedding\u001b[49m\u001b[43m)\u001b[49m\n\u001b[0;32m      3\u001b[0m enc_v2 \u001b[38;5;241m=\u001b[39m ts\u001b[38;5;241m.\u001b[39mckks_vector(context, img2_embedding)\n",
      "File \u001b[1;32mG:\\PROJECT 2023\\Anaconda\\lib\\site-packages\\tenseal\\__init__.py:102\u001b[0m, in \u001b[0;36mckks_vector\u001b[1;34m(*args, **kwargs)\u001b[0m\n\u001b[0;32m    100\u001b[0m \u001b[38;5;28;01mdef\u001b[39;00m \u001b[38;5;21mckks_vector\u001b[39m(\u001b[38;5;241m*\u001b[39margs, \u001b[38;5;241m*\u001b[39m\u001b[38;5;241m*\u001b[39mkwargs) \u001b[38;5;241m-\u001b[39m\u001b[38;5;241m>\u001b[39m CKKSVector:\n\u001b[0;32m    101\u001b[0m     \u001b[38;5;124;03m\"\"\"Constructor function for tenseal.CKKSVector\"\"\"\u001b[39;00m\n\u001b[1;32m--> 102\u001b[0m     \u001b[38;5;28;01mreturn\u001b[39;00m CKKSVector(\u001b[38;5;241m*\u001b[39margs, \u001b[38;5;241m*\u001b[39m\u001b[38;5;241m*\u001b[39mkwargs)\n",
      "File \u001b[1;32mG:\\PROJECT 2023\\Anaconda\\lib\\site-packages\\tenseal\\tensors\\ckksvector.py:36\u001b[0m, in \u001b[0;36mCKKSVector.__init__\u001b[1;34m(self, context, vector, scale, data)\u001b[0m\n\u001b[0;32m     34\u001b[0m     \u001b[38;5;28;01mraise\u001b[39;00m \u001b[38;5;167;01mTypeError\u001b[39;00m(\u001b[38;5;124m\"\u001b[39m\u001b[38;5;124mcontext must be a tenseal.Context\u001b[39m\u001b[38;5;124m\"\u001b[39m)\n\u001b[0;32m     35\u001b[0m \u001b[38;5;28;01mif\u001b[39;00m \u001b[38;5;129;01mnot\u001b[39;00m \u001b[38;5;28misinstance\u001b[39m(vector, ts\u001b[38;5;241m.\u001b[39mPlainTensor):\n\u001b[1;32m---> 36\u001b[0m     vector \u001b[38;5;241m=\u001b[39m \u001b[43mts\u001b[49m\u001b[38;5;241;43m.\u001b[39;49m\u001b[43mplain_tensor\u001b[49m\u001b[43m(\u001b[49m\u001b[43mvector\u001b[49m\u001b[43m,\u001b[49m\u001b[43m \u001b[49m\u001b[43mdtype\u001b[49m\u001b[38;5;241;43m=\u001b[39;49m\u001b[38;5;124;43m\"\u001b[39;49m\u001b[38;5;124;43mfloat\u001b[39;49m\u001b[38;5;124;43m\"\u001b[39;49m\u001b[43m)\u001b[49m\n\u001b[0;32m     37\u001b[0m \u001b[38;5;28;01mif\u001b[39;00m \u001b[38;5;28mlen\u001b[39m(vector\u001b[38;5;241m.\u001b[39mshape) \u001b[38;5;241m!=\u001b[39m \u001b[38;5;241m1\u001b[39m:\n\u001b[0;32m     38\u001b[0m     \u001b[38;5;28;01mraise\u001b[39;00m \u001b[38;5;167;01mValueError\u001b[39;00m(\u001b[38;5;124m\"\u001b[39m\u001b[38;5;124mcan only encrypt a vector\u001b[39m\u001b[38;5;124m\"\u001b[39m)\n",
      "File \u001b[1;32mG:\\PROJECT 2023\\Anaconda\\lib\\site-packages\\tenseal\\__init__.py:76\u001b[0m, in \u001b[0;36mplain_tensor\u001b[1;34m(*args, **kwargs)\u001b[0m\n\u001b[0;32m     74\u001b[0m \u001b[38;5;28;01mdef\u001b[39;00m \u001b[38;5;21mplain_tensor\u001b[39m(\u001b[38;5;241m*\u001b[39margs, \u001b[38;5;241m*\u001b[39m\u001b[38;5;241m*\u001b[39mkwargs) \u001b[38;5;241m-\u001b[39m\u001b[38;5;241m>\u001b[39m PlainTensor:\n\u001b[0;32m     75\u001b[0m     \u001b[38;5;124;03m\"\"\"Constructor function for tenseal.PlainTensor\"\"\"\u001b[39;00m\n\u001b[1;32m---> 76\u001b[0m     \u001b[38;5;28;01mreturn\u001b[39;00m PlainTensor(\u001b[38;5;241m*\u001b[39margs, \u001b[38;5;241m*\u001b[39m\u001b[38;5;241m*\u001b[39mkwargs)\n",
      "File \u001b[1;32mG:\\PROJECT 2023\\Anaconda\\lib\\site-packages\\tenseal\\tensors\\plaintensor.py:30\u001b[0m, in \u001b[0;36mPlainTensor.__init__\u001b[1;34m(self, tensor, shape, dtype)\u001b[0m\n\u001b[0;32m     28\u001b[0m     t \u001b[38;5;241m=\u001b[39m np\u001b[38;5;241m.\u001b[39marray(tensor, dtype\u001b[38;5;241m=\u001b[39mdtype)\n\u001b[0;32m     29\u001b[0m \u001b[38;5;28;01mexcept\u001b[39;00m:\n\u001b[1;32m---> 30\u001b[0m     \u001b[38;5;28;01mraise\u001b[39;00m \u001b[38;5;167;01mTypeError\u001b[39;00m(\u001b[38;5;124m\"\u001b[39m\u001b[38;5;124minput isn\u001b[39m\u001b[38;5;124m'\u001b[39m\u001b[38;5;124mt a well structured tensor\u001b[39m\u001b[38;5;124m\"\u001b[39m)\n\u001b[0;32m     31\u001b[0m shape \u001b[38;5;241m=\u001b[39m t\u001b[38;5;241m.\u001b[39mshape \u001b[38;5;28;01mif\u001b[39;00m shape \u001b[38;5;129;01mis\u001b[39;00m \u001b[38;5;28;01mNone\u001b[39;00m \u001b[38;5;28;01melse\u001b[39;00m shape\n\u001b[0;32m     32\u001b[0m data \u001b[38;5;241m=\u001b[39m t\u001b[38;5;241m.\u001b[39mflatten()\u001b[38;5;241m.\u001b[39mtolist()\n",
      "\u001b[1;31mTypeError\u001b[0m: input isn't a well structured tensor"
     ]
    }
   ],
   "source": [
    "context = ts.context_from(read_data(\"secret.txt\"))\n",
    "enc_v1 = ts.ckks_vector(context, img1_embedding)\n",
    "enc_v2 = ts.ckks_vector(context, img2_embedding)"
   ]
  },
  {
   "cell_type": "code",
   "execution_count": 49,
   "id": "ad8b4a04",
   "metadata": {},
   "outputs": [
    {
     "ename": "NameError",
     "evalue": "name 'enc_v1' is not defined",
     "output_type": "error",
     "traceback": [
      "\u001b[1;31m---------------------------------------------------------------------------\u001b[0m",
      "\u001b[1;31mNameError\u001b[0m                                 Traceback (most recent call last)",
      "Input \u001b[1;32mIn [49]\u001b[0m, in \u001b[0;36m<cell line: 1>\u001b[1;34m()\u001b[0m\n\u001b[1;32m----> 1\u001b[0m enc_v1_proto \u001b[38;5;241m=\u001b[39m \u001b[43menc_v1\u001b[49m\u001b[38;5;241m.\u001b[39mserialize()\n\u001b[0;32m      2\u001b[0m enc_v2_proto \u001b[38;5;241m=\u001b[39m enc_v2\u001b[38;5;241m.\u001b[39mserialize()\n",
      "\u001b[1;31mNameError\u001b[0m: name 'enc_v1' is not defined"
     ]
    }
   ],
   "source": [
    "enc_v1_proto = enc_v1.serialize()\n",
    "enc_v2_proto = enc_v2.serialize()"
   ]
  },
  {
   "cell_type": "code",
   "execution_count": 50,
   "id": "90a5dc06",
   "metadata": {},
   "outputs": [
    {
     "ename": "NameError",
     "evalue": "name 'enc_v1_proto' is not defined",
     "output_type": "error",
     "traceback": [
      "\u001b[1;31m---------------------------------------------------------------------------\u001b[0m",
      "\u001b[1;31mNameError\u001b[0m                                 Traceback (most recent call last)",
      "Input \u001b[1;32mIn [50]\u001b[0m, in \u001b[0;36m<cell line: 1>\u001b[1;34m()\u001b[0m\n\u001b[1;32m----> 1\u001b[0m write_data(\u001b[38;5;124m\"\u001b[39m\u001b[38;5;124menc_v1.txt\u001b[39m\u001b[38;5;124m\"\u001b[39m, \u001b[43menc_v1_proto\u001b[49m)\n\u001b[0;32m      2\u001b[0m write_data(\u001b[38;5;124m\"\u001b[39m\u001b[38;5;124menc_v2.txt\u001b[39m\u001b[38;5;124m\"\u001b[39m, enc_v2_proto)\n",
      "\u001b[1;31mNameError\u001b[0m: name 'enc_v1_proto' is not defined"
     ]
    }
   ],
   "source": [
    "write_data(\"enc_v1.txt\", enc_v1_proto)\n",
    "write_data(\"enc_v2.txt\", enc_v2_proto)"
   ]
  },
  {
   "cell_type": "code",
   "execution_count": 51,
   "id": "9dde438c",
   "metadata": {},
   "outputs": [
    {
     "ename": "NameError",
     "evalue": "name 'enc_v1' is not defined",
     "output_type": "error",
     "traceback": [
      "\u001b[1;31m---------------------------------------------------------------------------\u001b[0m",
      "\u001b[1;31mNameError\u001b[0m                                 Traceback (most recent call last)",
      "Input \u001b[1;32mIn [51]\u001b[0m, in \u001b[0;36m<cell line: 1>\u001b[1;34m()\u001b[0m\n\u001b[1;32m----> 1\u001b[0m \u001b[38;5;28;01mdel\u001b[39;00m context, enc_v1, enc_v2, enc_v1_proto, enc_v2_proto\n",
      "\u001b[1;31mNameError\u001b[0m: name 'enc_v1' is not defined"
     ]
    }
   ],
   "source": [
    "del context, enc_v1, enc_v2, enc_v1_proto, enc_v2_proto"
   ]
  },
  {
   "cell_type": "markdown",
   "id": "7ddbbe9f",
   "metadata": {},
   "source": [
    "# Calculations\n",
    "Once homomorphic encrypted facial embeddings stored in the cloud, we are able to make calculations on encrypted data.\n",
    "\n",
    "Notice that we just have public key here and we don't have secret key."
   ]
  },
  {
   "cell_type": "code",
   "execution_count": 52,
   "id": "1da906b4",
   "metadata": {},
   "outputs": [],
   "source": [
    "context = ts.context_from(read_data(\"public.txt\"))"
   ]
  },
  {
   "cell_type": "code",
   "execution_count": 53,
   "id": "2f4fdf88",
   "metadata": {},
   "outputs": [],
   "source": [
    "enc_v1_proto = read_data(\"enc_v1.txt\")\n",
    "enc_v2_proto = read_data(\"enc_v2.txt\")"
   ]
  },
  {
   "cell_type": "code",
   "execution_count": 54,
   "id": "ee6fb352",
   "metadata": {},
   "outputs": [],
   "source": [
    "enc_v1 = ts.lazy_ckks_vector_from(enc_v1_proto)\n",
    "enc_v1.link_context(context)\n",
    "\n",
    "enc_v2 = ts.lazy_ckks_vector_from(enc_v2_proto)\n",
    "enc_v2.link_context(context)"
   ]
  },
  {
   "cell_type": "code",
   "execution_count": 55,
   "id": "66460c83",
   "metadata": {},
   "outputs": [],
   "source": [
    "euclidean_squared = enc_v1 - enc_v2\n",
    "euclidean_squared = euclidean_squared.dot(euclidean_squared)"
   ]
  },
  {
   "cell_type": "code",
   "execution_count": 56,
   "id": "ecc21901",
   "metadata": {},
   "outputs": [],
   "source": [
    "write_data(\"euclidean_squared.txt\", euclidean_squared.serialize())"
   ]
  },
  {
   "cell_type": "code",
   "execution_count": 57,
   "id": "aebc108f",
   "metadata": {},
   "outputs": [
    {
     "name": "stdout",
     "output_type": "stream",
     "text": [
      "Exception:  the current context of the tensor doesn't hold a secret_key, please provide one as argument\n"
     ]
    }
   ],
   "source": [
    "#we must not decrypt the homomorphic encrypted euclidean squared value in this stage\n",
    "#because we don't have the secret key. check this operation. it should throw an exception!\n",
    "\n",
    "try:\n",
    "    euclidean_squared.decrypt()\n",
    "except Exception as err:\n",
    "    print(\"Exception: \", str(err))"
   ]
  },
  {
   "cell_type": "code",
   "execution_count": 58,
   "id": "1bd4a0d1",
   "metadata": {},
   "outputs": [],
   "source": [
    "del context, enc_v1_proto, enc_v2_proto, enc_v1, enc_v2, euclidean_squared"
   ]
  },
  {
   "cell_type": "markdown",
   "id": "a6b89433",
   "metadata": {},
   "source": [
    "# Decryption\n",
    "Once homomorphic encrypted euclidean squared value found in the cloud, we are going to retrieve it to the client side.\n",
    "\n",
    "Client can decrypt it because we have the secret key in the client side.\n",
    "\n"
   ]
  },
  {
   "cell_type": "code",
   "execution_count": 59,
   "id": "86880fcc",
   "metadata": {},
   "outputs": [],
   "source": [
    "context = ts.context_from(read_data(\"secret.txt\"))"
   ]
  },
  {
   "cell_type": "code",
   "execution_count": 60,
   "id": "fbef7716",
   "metadata": {},
   "outputs": [],
   "source": [
    "euclidean_squared_proto = read_data(\"euclidean_squared.txt\")"
   ]
  },
  {
   "cell_type": "code",
   "execution_count": 61,
   "id": "576bc409",
   "metadata": {},
   "outputs": [],
   "source": [
    "euclidean_squared = ts.lazy_ckks_vector_from(euclidean_squared_proto)\n",
    "euclidean_squared.link_context(context)"
   ]
  },
  {
   "cell_type": "code",
   "execution_count": 62,
   "id": "ffe65d1d",
   "metadata": {},
   "outputs": [],
   "source": [
    "euclidean_squared_plain = euclidean_squared.decrypt()[0]"
   ]
  },
  {
   "cell_type": "code",
   "execution_count": 63,
   "id": "c78292d2",
   "metadata": {},
   "outputs": [
    {
     "data": {
      "text/plain": [
       "-1.123258424983683e+19"
      ]
     },
     "execution_count": 63,
     "metadata": {},
     "output_type": "execute_result"
    }
   ],
   "source": [
    "euclidean_squared_plain"
   ]
  },
  {
   "cell_type": "code",
   "execution_count": 64,
   "id": "e7114262",
   "metadata": {},
   "outputs": [
    {
     "name": "stdout",
     "output_type": "stream",
     "text": [
      "they are same person\n"
     ]
    }
   ],
   "source": [
    "if euclidean_squared_plain < 100:\n",
    "    print(\"they are same person\")\n",
    "else:\n",
    "    print(\"they are different persons\")"
   ]
  },
  {
   "cell_type": "markdown",
   "id": "18a58380",
   "metadata": {},
   "source": [
    "# Validation\n",
    "What if euclidean distance calculation is done in the client side always? Result should be same!"
   ]
  },
  {
   "cell_type": "code",
   "execution_count": 67,
   "id": "b929f080",
   "metadata": {},
   "outputs": [
    {
     "ename": "TypeError",
     "evalue": "unsupported operand type(s) for -: 'dict' and 'dict'",
     "output_type": "error",
     "traceback": [
      "\u001b[1;31m---------------------------------------------------------------------------\u001b[0m",
      "\u001b[1;31mTypeError\u001b[0m                                 Traceback (most recent call last)",
      "Input \u001b[1;32mIn [67]\u001b[0m, in \u001b[0;36m<cell line: 1>\u001b[1;34m()\u001b[0m\n\u001b[1;32m----> 1\u001b[0m distance \u001b[38;5;241m=\u001b[39m \u001b[43mdst\u001b[49m\u001b[38;5;241;43m.\u001b[39;49m\u001b[43mfindEuclideanDistance\u001b[49m\u001b[43m(\u001b[49m\u001b[43mimg1_embedding\u001b[49m\u001b[43m,\u001b[49m\u001b[43m \u001b[49m\u001b[43mimg2_embedding\u001b[49m\u001b[43m)\u001b[49m\n",
      "File \u001b[1;32mG:\\PROJECT 2023\\Anaconda\\lib\\site-packages\\deepface\\commons\\distance.py:18\u001b[0m, in \u001b[0;36mfindEuclideanDistance\u001b[1;34m(source_representation, test_representation)\u001b[0m\n\u001b[0;32m     15\u001b[0m \u001b[38;5;28;01mif\u001b[39;00m \u001b[38;5;28misinstance\u001b[39m(test_representation, \u001b[38;5;28mlist\u001b[39m):\n\u001b[0;32m     16\u001b[0m     test_representation \u001b[38;5;241m=\u001b[39m np\u001b[38;5;241m.\u001b[39marray(test_representation)\n\u001b[1;32m---> 18\u001b[0m euclidean_distance \u001b[38;5;241m=\u001b[39m \u001b[43msource_representation\u001b[49m\u001b[43m \u001b[49m\u001b[38;5;241;43m-\u001b[39;49m\u001b[43m \u001b[49m\u001b[43mtest_representation\u001b[49m\n\u001b[0;32m     19\u001b[0m euclidean_distance \u001b[38;5;241m=\u001b[39m np\u001b[38;5;241m.\u001b[39msum(np\u001b[38;5;241m.\u001b[39mmultiply(euclidean_distance, euclidean_distance))\n\u001b[0;32m     20\u001b[0m euclidean_distance \u001b[38;5;241m=\u001b[39m np\u001b[38;5;241m.\u001b[39msqrt(euclidean_distance)\n",
      "\u001b[1;31mTypeError\u001b[0m: unsupported operand type(s) for -: 'dict' and 'dict'"
     ]
    }
   ],
   "source": [
    "distance = dst.findEuclideanDistance(img1_embedding, img2_embedding)\n"
   ]
  },
  {
   "cell_type": "code",
   "execution_count": 66,
   "id": "d8ddcac1",
   "metadata": {},
   "outputs": [
    {
     "ename": "NameError",
     "evalue": "name 'distance' is not defined",
     "output_type": "error",
     "traceback": [
      "\u001b[1;31m---------------------------------------------------------------------------\u001b[0m",
      "\u001b[1;31mNameError\u001b[0m                                 Traceback (most recent call last)",
      "Input \u001b[1;32mIn [66]\u001b[0m, in \u001b[0;36m<cell line: 1>\u001b[1;34m()\u001b[0m\n\u001b[1;32m----> 1\u001b[0m \u001b[38;5;28mprint\u001b[39m(\u001b[38;5;124m\"\u001b[39m\u001b[38;5;124meuclidean squared - tradational: \u001b[39m\u001b[38;5;124m\"\u001b[39m, \u001b[43mdistance\u001b[49m\u001b[38;5;241m*\u001b[39mdistance)\n\u001b[0;32m      2\u001b[0m \u001b[38;5;28mprint\u001b[39m(\u001b[38;5;124m\"\u001b[39m\u001b[38;5;124meuclidean squared - homomorphic: \u001b[39m\u001b[38;5;124m\"\u001b[39m, euclidean_squared_plain)\n",
      "\u001b[1;31mNameError\u001b[0m: name 'distance' is not defined"
     ]
    }
   ],
   "source": [
    "print(\"euclidean squared - tradational: \", distance*distance)\n",
    "print(\"euclidean squared - homomorphic: \", euclidean_squared_plain)"
   ]
  },
  {
   "cell_type": "code",
   "execution_count": 68,
   "id": "7de6471a",
   "metadata": {
    "scrolled": true
   },
   "outputs": [
    {
     "ename": "NameError",
     "evalue": "name 'distance' is not defined",
     "output_type": "error",
     "traceback": [
      "\u001b[1;31m---------------------------------------------------------------------------\u001b[0m",
      "\u001b[1;31mNameError\u001b[0m                                 Traceback (most recent call last)",
      "Input \u001b[1;32mIn [68]\u001b[0m, in \u001b[0;36m<cell line: 2>\u001b[1;34m()\u001b[0m\n\u001b[0;32m      1\u001b[0m \u001b[38;5;66;03m#check the difference is acceptable\u001b[39;00m\n\u001b[1;32m----> 2\u001b[0m \u001b[38;5;28mabs\u001b[39m(\u001b[43mdistance\u001b[49m \u001b[38;5;241m*\u001b[39m distance \u001b[38;5;241m-\u001b[39m euclidean_squared_plain) \u001b[38;5;241m<\u001b[39m \u001b[38;5;241m0.00001\u001b[39m\n",
      "\u001b[1;31mNameError\u001b[0m: name 'distance' is not defined"
     ]
    }
   ],
   "source": [
    "#check the difference is acceptable\n",
    "abs(distance * distance - euclidean_squared_plain) < 0.00001"
   ]
  },
  {
   "cell_type": "code",
   "execution_count": null,
   "id": "bb43bd8f",
   "metadata": {},
   "outputs": [],
   "source": []
  },
  {
   "cell_type": "code",
   "execution_count": null,
   "id": "8f431ce1",
   "metadata": {},
   "outputs": [],
   "source": []
  },
  {
   "cell_type": "code",
   "execution_count": null,
   "id": "f1bb5d63",
   "metadata": {},
   "outputs": [],
   "source": []
  }
 ],
 "metadata": {
  "kernelspec": {
   "display_name": "Python 3 (ipykernel)",
   "language": "python",
   "name": "python3"
  },
  "language_info": {
   "codemirror_mode": {
    "name": "ipython",
    "version": 3
   },
   "file_extension": ".py",
   "mimetype": "text/x-python",
   "name": "python",
   "nbconvert_exporter": "python",
   "pygments_lexer": "ipython3",
   "version": "3.9.12"
  }
 },
 "nbformat": 4,
 "nbformat_minor": 5
}
