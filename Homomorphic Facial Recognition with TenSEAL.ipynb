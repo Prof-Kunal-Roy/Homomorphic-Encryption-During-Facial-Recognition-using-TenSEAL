{
 "cells": [
  {
   "cell_type": "markdown",
   "id": "9ab00f1c",
   "metadata": {},
   "source": [
    "# Requirements"
   ]
  },
  {
   "cell_type": "code",
   "execution_count": 1,
   "id": "cefcf6ba",
   "metadata": {},
   "outputs": [],
   "source": [
    "import tenseal as ts # pip install tenseal\n",
    "from deepface import DeepFace #!pip install deepface\n",
    "import base64\n",
    "from deepface.commons import distance as dst\n"
   ]
  },
  {
   "cell_type": "markdown",
   "id": "8c7cfa85",
   "metadata": {},
   "source": [
    "# Finding embeddings (Client Side)\n",
    "We are going to find vector representations of facial images. This will be done in the client side."
   ]
  },
  {
   "cell_type": "code",
   "execution_count": 2,
   "id": "3f9af942",
   "metadata": {},
   "outputs": [],
   "source": [
    "img1_path = \"photo.jpeg\"\n",
    "img2_path = \"new photo.jpeg\""
   ]
  },
  {
   "cell_type": "code",
   "execution_count": 3,
   "id": "f19cb54c",
   "metadata": {},
   "outputs": [],
   "source": [
    "img1_embedding=DeepFace.represent(img1_path, model_name='Facenet')\n",
    "img2_embedding=DeepFace.represent(img2_path, model_name='Facenet')"
   ]
  },
  {
   "cell_type": "code",
   "execution_count": 4,
   "id": "754c9b5d",
   "metadata": {},
   "outputs": [
    {
     "data": {
      "text/plain": [
       "1"
      ]
     },
     "execution_count": 4,
     "metadata": {},
     "output_type": "execute_result"
    }
   ],
   "source": [
    "len(img1_embedding)"
   ]
  },
  {
   "cell_type": "markdown",
   "id": "6c1d3a6d",
   "metadata": {},
   "source": [
    "# Commons"
   ]
  },
  {
   "cell_type": "code",
   "execution_count": 5,
   "id": "44630098",
   "metadata": {},
   "outputs": [],
   "source": [
    "def write_data(file_name, file_content):\n",
    "    \n",
    "    if type(file_content) == bytes:\n",
    "        #bytes to base64\n",
    "        \n",
    "        file_content = base64.b64encode(file_content)\n",
    "    \n",
    "    with open(file_name, 'wb') as f: \n",
    "        f.write(file_content)\n",
    "\n",
    "def read_data(file_name):\n",
    "    with open(file_name, \"rb\") as f:\n",
    "        file_content = f.read()\n",
    "    \n",
    "    #base64 to bytes\n",
    "    return base64.b64decode(file_content)"
   ]
  },
  {
   "cell_type": "code",
   "execution_count": null,
   "id": "ac097c8a",
   "metadata": {},
   "outputs": [],
   "source": []
  },
  {
   "cell_type": "code",
   "execution_count": null,
   "id": "c4cdf2bb",
   "metadata": {},
   "outputs": [],
   "source": []
  },
  {
   "cell_type": "markdown",
   "id": "8e70aa6a",
   "metadata": {},
   "source": [
    "# Initialize (Client Side)"
   ]
  },
  {
   "cell_type": "code",
   "execution_count": 6,
   "id": "237b951e",
   "metadata": {},
   "outputs": [],
   "source": [
    "context = ts.context(ts.SCHEME_TYPE.CKKS, poly_modulus_degree = 8192, coeff_mod_bit_sizes = [60, 40, 40, 60])"
   ]
  },
  {
   "cell_type": "code",
   "execution_count": 7,
   "id": "3c8d8954",
   "metadata": {},
   "outputs": [],
   "source": [
    "context.generate_galois_keys()\n",
    "context.global_scale = 2**40"
   ]
  },
  {
   "cell_type": "code",
   "execution_count": 8,
   "id": "fa55b946",
   "metadata": {},
   "outputs": [],
   "source": [
    "secret_context = context.serialize(save_secret_key = True)\n",
    "write_data(\"secret.txt\", file_content=secret_context)"
   ]
  },
  {
   "cell_type": "code",
   "execution_count": 9,
   "id": "c7a8f5f3",
   "metadata": {},
   "outputs": [
    {
     "data": {
      "text/plain": [
       "bytes"
      ]
     },
     "execution_count": 9,
     "metadata": {},
     "output_type": "execute_result"
    }
   ],
   "source": [
    "type(secret_context)"
   ]
  },
  {
   "cell_type": "code",
   "execution_count": 10,
   "id": "215c0313",
   "metadata": {},
   "outputs": [],
   "source": [
    "context.make_context_public()\n",
    "public_context=context.serialize()\n",
    "write_data(file_name=\"public.txt\",file_content=public_context)"
   ]
  },
  {
   "cell_type": "code",
   "execution_count": 11,
   "id": "60f067b8",
   "metadata": {},
   "outputs": [],
   "source": [
    "del context, secret_context, public_context"
   ]
  },
  {
   "cell_type": "markdown",
   "id": "69af1e96",
   "metadata": {},
   "source": [
    "# Encryption\n",
    "We are going to apply homomorphic encryption to facial embeddings. This will be done in the client side.\n",
    "\n",
    "Then, homomorphic encrypted facial embeddings will be stored in the cloud."
   ]
  },
  {
   "cell_type": "code",
   "execution_count": null,
   "id": "4edce248",
   "metadata": {},
   "outputs": [],
   "source": [
    "context = ts.context_from(read_data(\"secret.txt\"))\n",
    "enc_v1 = ts.ckks_vector(context, img1_embedding)\n",
    "enc_v2 = ts.ckks_vector(context, img2_embedding)"
   ]
  },
  {
   "cell_type": "code",
   "execution_count": null,
   "id": "ad8b4a04",
   "metadata": {},
   "outputs": [],
   "source": [
    "enc_v1_proto = enc_v1.serialize()\n",
    "enc_v2_proto = enc_v2.serialize()"
   ]
  },
  {
   "cell_type": "code",
   "execution_count": null,
   "id": "90a5dc06",
   "metadata": {},
   "outputs": [],
   "source": [
    "write_data(\"enc_v1.txt\", enc_v1_proto)\n",
    "write_data(\"enc_v2.txt\", enc_v2_proto)"
   ]
  },
  {
   "cell_type": "code",
   "execution_count": null,
   "id": "9dde438c",
   "metadata": {},
   "outputs": [],
   "source": [
    "del context, enc_v1, enc_v2, enc_v1_proto, enc_v2_proto"
   ]
  },
  {
   "cell_type": "markdown",
   "id": "7ddbbe9f",
   "metadata": {},
   "source": [
    "# Calculations\n",
    "Once homomorphic encrypted facial embeddings stored in the cloud, we are able to make calculations on encrypted data.\n",
    "\n",
    "Notice that we just have public key here and we don't have secret key."
   ]
  },
  {
   "cell_type": "code",
   "execution_count": null,
   "id": "1da906b4",
   "metadata": {},
   "outputs": [],
   "source": [
    "context = ts.context_from(read_data(\"public.txt\"))"
   ]
  },
  {
   "cell_type": "code",
   "execution_count": null,
   "id": "2f4fdf88",
   "metadata": {},
   "outputs": [],
   "source": [
    "enc_v1_proto = read_data(\"enc_v1.txt\")\n",
    "enc_v2_proto = read_data(\"enc_v2.txt\")"
   ]
  },
  {
   "cell_type": "code",
   "execution_count": null,
   "id": "ee6fb352",
   "metadata": {},
   "outputs": [],
   "source": [
    "enc_v1 = ts.lazy_ckks_vector_from(enc_v1_proto)\n",
    "enc_v1.link_context(context)\n",
    "\n",
    "enc_v2 = ts.lazy_ckks_vector_from(enc_v2_proto)\n",
    "enc_v2.link_context(context)"
   ]
  },
  {
   "cell_type": "code",
   "execution_count": null,
   "id": "66460c83",
   "metadata": {},
   "outputs": [],
   "source": [
    "euclidean_squared = enc_v1 - enc_v2\n",
    "euclidean_squared = euclidean_squared.dot(euclidean_squared)"
   ]
  },
  {
   "cell_type": "code",
   "execution_count": null,
   "id": "ecc21901",
   "metadata": {},
   "outputs": [],
   "source": [
    "write_data(\"euclidean_squared.txt\", euclidean_squared.serialize())"
   ]
  },
  {
   "cell_type": "code",
   "execution_count": null,
   "id": "aebc108f",
   "metadata": {},
   "outputs": [],
   "source": [
    "#we must not decrypt the homomorphic encrypted euclidean squared value in this stage\n",
    "#because we don't have the secret key. check this operation. it should throw an exception!\n",
    "\n",
    "try:\n",
    "    euclidean_squared.decrypt()\n",
    "except Exception as err:\n",
    "    print(\"Exception: \", str(err))"
   ]
  },
  {
   "cell_type": "code",
   "execution_count": null,
   "id": "1bd4a0d1",
   "metadata": {},
   "outputs": [],
   "source": [
    "del context, enc_v1_proto, enc_v2_proto, enc_v1, enc_v2, euclidean_squared"
   ]
  },
  {
   "cell_type": "markdown",
   "id": "a6b89433",
   "metadata": {},
   "source": [
    "# Decryption\n",
    "Once homomorphic encrypted euclidean squared value found in the cloud, we are going to retrieve it to the client side.\n",
    "\n",
    "Client can decrypt it because we have the secret key in the client side.\n",
    "\n"
   ]
  },
  {
   "cell_type": "code",
   "execution_count": null,
   "id": "86880fcc",
   "metadata": {},
   "outputs": [],
   "source": [
    "context = ts.context_from(read_data(\"secret.txt\"))"
   ]
  },
  {
   "cell_type": "code",
   "execution_count": null,
   "id": "fbef7716",
   "metadata": {},
   "outputs": [],
   "source": [
    "euclidean_squared_proto = read_data(\"euclidean_squared.txt\")"
   ]
  },
  {
   "cell_type": "code",
   "execution_count": null,
   "id": "576bc409",
   "metadata": {},
   "outputs": [],
   "source": [
    "euclidean_squared = ts.lazy_ckks_vector_from(euclidean_squared_proto)\n",
    "euclidean_squared.link_context(context)"
   ]
  },
  {
   "cell_type": "code",
   "execution_count": null,
   "id": "ffe65d1d",
   "metadata": {},
   "outputs": [],
   "source": [
    "euclidean_squared_plain = euclidean_squared.decrypt()[0]"
   ]
  },
  {
   "cell_type": "code",
   "execution_count": null,
   "id": "c78292d2",
   "metadata": {},
   "outputs": [],
   "source": [
    "euclidean_squared_plain"
   ]
  },
  {
   "cell_type": "code",
   "execution_count": null,
   "id": "e7114262",
   "metadata": {},
   "outputs": [],
   "source": [
    "if euclidean_squared_plain < 100:\n",
    "    print(\"they are same person\")\n",
    "else:\n",
    "    print(\"they are different persons\")"
   ]
  },
  {
   "cell_type": "markdown",
   "id": "18a58380",
   "metadata": {},
   "source": [
    "# Validation\n",
    "What if euclidean distance calculation is done in the client side always? Result should be same!"
   ]
  },
  {
   "cell_type": "code",
   "execution_count": null,
   "id": "b929f080",
   "metadata": {},
   "outputs": [],
   "source": [
    "distance = dst.findEuclideanDistance(img1_embedding, img2_embedding)\n"
   ]
  },
  {
   "cell_type": "code",
   "execution_count": null,
   "id": "d8ddcac1",
   "metadata": {},
   "outputs": [],
   "source": [
    "print(\"euclidean squared - tradational: \", distance*distance)\n",
    "print(\"euclidean squared - homomorphic: \", euclidean_squared_plain)"
   ]
  },
  {
   "cell_type": "code",
   "execution_count": null,
   "id": "7de6471a",
   "metadata": {
    "scrolled": true
   },
   "outputs": [],
   "source": [
    "#check the difference is acceptable\n",
    "abs(distance * distance - euclidean_squared_plain) < 0.00001"
   ]
  },
  {
   "cell_type": "code",
   "execution_count": null,
   "id": "bb43bd8f",
   "metadata": {},
   "outputs": [],
   "source": []
  },
  {
   "cell_type": "code",
   "execution_count": null,
   "id": "8f431ce1",
   "metadata": {},
   "outputs": [],
   "source": []
  },
  {
   "cell_type": "code",
   "execution_count": null,
   "id": "f1bb5d63",
   "metadata": {},
   "outputs": [],
   "source": []
  }
 ],
 "metadata": {
  "kernelspec": {
   "display_name": "Python 3 (ipykernel)",
   "language": "python",
   "name": "python3"
  },
  "language_info": {
   "codemirror_mode": {
    "name": "ipython",
    "version": 3
   },
   "file_extension": ".py",
   "mimetype": "text/x-python",
   "name": "python",
   "nbconvert_exporter": "python",
   "pygments_lexer": "ipython3",
   "version": "3.9.12"
  }
 },
 "nbformat": 4,
 "nbformat_minor": 5
}
